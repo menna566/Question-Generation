{
  "metadata": {
    "kernelspec": {
      "language": "python",
      "display_name": "Python 3",
      "name": "python3"
    },
    "language_info": {
      "name": "python",
      "version": "3.7.12",
      "mimetype": "text/x-python",
      "codemirror_mode": {
        "name": "ipython",
        "version": 3
      },
      "pygments_lexer": "ipython3",
      "nbconvert_exporter": "python",
      "file_extension": ".py"
    },
    "colab": {
      "provenance": []
    }
  },
  "nbformat_minor": 0,
  "nbformat": 4,
  "cells": [
    {
      "cell_type": "code",
      "source": [
        "!pip install git+https://github.com/boudinfl/pke.git\n",
        "!pip install matplotlib\n",
        "!python -m spacy download en_core_web_sm"
      ],
      "metadata": {
        "_uuid": "8f2839f25d086af736a60e9eeb907d3b93b6e0e5",
        "_cell_guid": "b1076dfc-b9ad-4769-8c92-a6c4dae69d19",
        "execution": {
          "iopub.status.busy": "2022-09-22T16:29:26.505283Z",
          "iopub.execute_input": "2022-09-22T16:29:26.505795Z",
          "iopub.status.idle": "2022-09-22T16:30:31.909951Z",
          "shell.execute_reply.started": "2022-09-22T16:29:26.505689Z",
          "shell.execute_reply": "2022-09-22T16:30:31.908317Z"
        },
        "trusted": true,
        "id": "pP60n_tCnytT"
      },
      "execution_count": null,
      "outputs": []
    },
    {
      "cell_type": "code",
      "source": [
        "import os\n",
        "import warnings\n",
        "warnings.filterwarnings(\"ignore\")\n",
        "for dirname, _, filenames in os.walk('/kaggle/input'):\n",
        "    for filename in filenames:\n",
        "        print(os.path.join(dirname, filename))\n",
        "        file=os.path.join(dirname,filename)\n"
      ],
      "metadata": {
        "execution": {
          "iopub.status.busy": "2022-09-22T17:03:51.805396Z",
          "iopub.execute_input": "2022-09-22T17:03:51.807099Z",
          "iopub.status.idle": "2022-09-22T17:03:51.822837Z",
          "shell.execute_reply.started": "2022-09-22T17:03:51.807036Z",
          "shell.execute_reply": "2022-09-22T17:03:51.821661Z"
        },
        "trusted": true,
        "id": "cmfEEiO-nytX",
        "outputId": "60c883ae-77d3-4c85-cccd-39e08ebf551e"
      },
      "execution_count": null,
      "outputs": [
        {
          "name": "stdout",
          "text": "/kaggle/input/computer-science/ComputerScience (1).txt\n",
          "output_type": "stream"
        }
      ]
    },
    {
      "cell_type": "code",
      "source": [
        "with open(file) as f:\n",
        "        contents = f.read()     \n",
        "        f.close()"
      ],
      "metadata": {
        "execution": {
          "iopub.status.busy": "2022-09-22T16:31:14.833390Z",
          "iopub.execute_input": "2022-09-22T16:31:14.833804Z",
          "iopub.status.idle": "2022-09-22T16:31:14.845098Z",
          "shell.execute_reply.started": "2022-09-22T16:31:14.833769Z",
          "shell.execute_reply": "2022-09-22T16:31:14.844099Z"
        },
        "trusted": true,
        "id": "1MT8QPz9nytY"
      },
      "execution_count": null,
      "outputs": []
    },
    {
      "cell_type": "code",
      "source": [
        "import re \n",
        "contents= re.sub(r'\\n', \" \", contents)\n"
      ],
      "metadata": {
        "execution": {
          "iopub.status.busy": "2022-09-22T16:31:16.906778Z",
          "iopub.execute_input": "2022-09-22T16:31:16.907891Z",
          "iopub.status.idle": "2022-09-22T16:31:16.912676Z",
          "shell.execute_reply.started": "2022-09-22T16:31:16.907844Z",
          "shell.execute_reply": "2022-09-22T16:31:16.911730Z"
        },
        "trusted": true,
        "id": "puJQZr22nytY"
      },
      "execution_count": null,
      "outputs": []
    },
    {
      "cell_type": "code",
      "source": [
        "contents = contents.translate(str.maketrans(' ', ' ','!\"#$%&\\'()*+-/:;<=>?@[\\\\]^_`{|}~'))"
      ],
      "metadata": {
        "execution": {
          "iopub.status.busy": "2022-09-22T16:31:18.961498Z",
          "iopub.execute_input": "2022-09-22T16:31:18.961960Z",
          "iopub.status.idle": "2022-09-22T16:31:18.967378Z",
          "shell.execute_reply.started": "2022-09-22T16:31:18.961918Z",
          "shell.execute_reply": "2022-09-22T16:31:18.966454Z"
        },
        "trusted": true,
        "id": "BDqW5mLYnytZ"
      },
      "execution_count": null,
      "outputs": []
    },
    {
      "cell_type": "code",
      "source": [
        "import pke\n",
        "extractor = pke.unsupervised.TfIdf()\n",
        "extractor.load_document(input='contents')\n",
        "extractor.candidate_selection() \n",
        "extractor.candidate_weighting()\n",
        "keyphrases = extractor.get_n_best(n=10)"
      ],
      "metadata": {
        "execution": {
          "iopub.status.busy": "2022-09-22T16:31:23.379620Z",
          "iopub.execute_input": "2022-09-22T16:31:23.380626Z",
          "iopub.status.idle": "2022-09-22T16:31:39.877040Z",
          "shell.execute_reply.started": "2022-09-22T16:31:23.380579Z",
          "shell.execute_reply": "2022-09-22T16:31:39.875968Z"
        },
        "trusted": true,
        "id": "lIzKMUFhnytZ"
      },
      "execution_count": null,
      "outputs": []
    },
    {
      "cell_type": "code",
      "source": [
        "extractor = pke.unsupervised.TopicRank()"
      ],
      "metadata": {
        "execution": {
          "iopub.status.busy": "2022-09-22T16:31:43.618588Z",
          "iopub.execute_input": "2022-09-22T16:31:43.619428Z",
          "iopub.status.idle": "2022-09-22T16:31:43.624592Z",
          "shell.execute_reply.started": "2022-09-22T16:31:43.619378Z",
          "shell.execute_reply": "2022-09-22T16:31:43.623523Z"
        },
        "trusted": true,
        "id": "WFWThtkxnytZ"
      },
      "execution_count": null,
      "outputs": []
    },
    {
      "cell_type": "code",
      "source": [
        "extractor.load_document(input=contents, language='en')"
      ],
      "metadata": {
        "execution": {
          "iopub.status.busy": "2022-09-22T16:31:45.360375Z",
          "iopub.execute_input": "2022-09-22T16:31:45.360802Z",
          "iopub.status.idle": "2022-09-22T16:31:47.915014Z",
          "shell.execute_reply.started": "2022-09-22T16:31:45.360764Z",
          "shell.execute_reply": "2022-09-22T16:31:47.913679Z"
        },
        "trusted": true,
        "id": "enw_R8Tmnyta"
      },
      "execution_count": null,
      "outputs": []
    },
    {
      "cell_type": "code",
      "source": [
        "extractor.candidate_selection()"
      ],
      "metadata": {
        "execution": {
          "iopub.status.busy": "2022-09-22T16:31:47.917346Z",
          "iopub.execute_input": "2022-09-22T16:31:47.917767Z",
          "iopub.status.idle": "2022-09-22T16:31:47.925485Z",
          "shell.execute_reply.started": "2022-09-22T16:31:47.917729Z",
          "shell.execute_reply": "2022-09-22T16:31:47.924437Z"
        },
        "trusted": true,
        "id": "B8_WC3SWnyta"
      },
      "execution_count": null,
      "outputs": []
    },
    {
      "cell_type": "code",
      "source": [
        "extractor.candidate_weighting()"
      ],
      "metadata": {
        "execution": {
          "iopub.status.busy": "2022-09-22T16:31:49.705088Z",
          "iopub.execute_input": "2022-09-22T16:31:49.705504Z",
          "iopub.status.idle": "2022-09-22T16:31:50.356291Z",
          "shell.execute_reply.started": "2022-09-22T16:31:49.705469Z",
          "shell.execute_reply": "2022-09-22T16:31:50.354901Z"
        },
        "trusted": true,
        "id": "ZSylMoL7nyta"
      },
      "execution_count": null,
      "outputs": []
    },
    {
      "cell_type": "code",
      "source": [
        "for i, topic in enumerate(extractor.topics):\n",
        "    print(\"topic {}: {} \".format(i, ';'.join(topic)))"
      ],
      "metadata": {
        "execution": {
          "iopub.status.busy": "2022-09-22T16:38:43.001795Z",
          "iopub.execute_input": "2022-09-22T16:38:43.002780Z",
          "iopub.status.idle": "2022-09-22T16:38:43.010208Z",
          "shell.execute_reply.started": "2022-09-22T16:38:43.002733Z",
          "shell.execute_reply": "2022-09-22T16:38:43.008942Z"
        },
        "trusted": true,
        "id": "LybxF488nytb",
        "outputId": "692f7361-6580-414d-a22e-c95f173ed50f"
      },
      "execution_count": null,
      "outputs": [
        {
          "name": "stdout",
          "text": "topic 0: inform;inform technolog;inform web;worldwid inform network \ntopic 1: literaci;literaci technolog \ntopic 2: inlbrmat technolog;profound technolog;technolog \ntopic 3: human world;physic world;world \ntopic 4: human psycholog \ntopic 5: differ way;new way;way \ntopic 6: new goal \ntopic 7: engin;singl engin \ntopic 8: singl box \ntopic 9: differ machin;laptop machin;singl machin \ntopic 10: today;today multimedia machin \ntopic 11: virtual;virtual object;virtual realiti \ntopic 12: user;user interfac problem \ntopic 13: real potenti;real power \ntopic 14: ubiquit;ubiquit comput \ntopic 15: comput;comput scientist;comput screen;invis comput;person comput;power notebook comput \ntopic 16: typic automobil;typic workshop \ntopic 17: shop manual;shop sign \ntopic 18: street sign \ntopic 19: goggl;special goggl \ntopic 20: peopl;peopl live \ntopic 21: effici electr motor;electr motor;motor \ntopic 22: everyday life;modern life \ntopic 23: exampl;instruct exampl \ntopic 24: book;import book \ntopic 25: computerread data;data base \ntopic 26: background;constant background presenc \ntopic 27: activ attent;attent;care attent \ntopic 28: abil \ntopic 29: access \ntopic 30: account \ntopic 31: act \ntopic 32: addit \ntopic 33: airport \ntopic 34: analog \ntopic 35: approach \ntopic 36: arcan aura \ntopic 37: art \ntopic 38: artifici scene \ntopic 39: awar \ntopic 40: beach \ntopic 41: billboard \ntopic 42: bodysuit \ntopic 43: candi wrapper \ntopic 44: cell \ntopic 45: centuri \ntopic 46: chanc encount \ntopic 47: cheap \ntopic 48: clay \ntopic 49: colleagu \ntopic 50: complex jargon \ntopic 51: conseious \ntopic 52: context \ntopic 53: contrast \ntopic 54: countri \ntopic 55: demand focu \ntopic 56: desk \ntopic 57: difficult \ntopic 58: disappear \ntopic 59: distant planet \ntopic 60: door \ntopic 61: dozen \ntopic 62: driver \ntopic 63: dynabook \ntopic 64: economist \ntopic 65: electron shell \ntopic 66: enorm apparatu \ntopic 67: environ \ntopic 68: essenc \ntopic 69: eye \ntopic 70: fabric \ntopic 71: factori \ntopic 72: fundament consequ \ntopic 73: gener \ntopic 74: gestur \ntopic 75: glanc \ntopic 76: glove \ntopic 77: graffiti \ntopic 78: graphic \ntopic 79: horizon \ntopic 80: hundr \ntopic 81: idea \ntopic 82: inaccess \ntopic 83: indistinguish \ntopic 84: individu memori \ntopic 85: infinit rich \ntopic 86: ink \ntopic 87: insid \ntopic 88: integr \ntopic 89: jungl \ntopic 90: knowledg navig \ntopic 91: languag \ntopic 92: larg run \ntopic 93: limit \ntopic 94: longterm storag \ntopic 95: magazin \ntopic 96: map \ntopic 97: martin heidegg \ntopic 98: million \ntopic 99: motion \ntopic 100: motiv forc \ntopic 101: newspap \ntopic 102: notion \ntopic 103: number \ntopic 104: offic \ntopic 105: opposit \ntopic 106: pare \ntopic 107: period \ntopic 108: peripheri \ntopic 109: phenomenon \ntopic 110: philosoph michael polanyi \ntopic 111: possibl \ntopic 112: presentday trend \ntopic 113: process \ntopic 114: product \ntopic 115: pulley \ntopic 116: purpos \ntopic 117: read \ntopic 118: readi \ntopic 119: readytohand john seeli brown \ntopic 120: realm \ntopic 121: scribe \ntopic 122: shaft \ntopic 123: small \ntopic 124: solenoid \ntopic 125: sound \ntopic 126: state \ntopic 127: strong \ntopic 128: superlaptop \ntopic 129: surfac \ntopic 130: system \ntopic 131: task \ntopic 132: term \ntopic 133: territori \ntopic 134: text \ntopic 135: thing \ntopic 136: think \ntopic 137: tool \ntopic 138: transit step \ntopic 139: tree \ntopic 140: turn \ntopic 141: univers \ntopic 142: use \ntopic 143: vanish \ntopic 144: video \ntopic 145: vision \ntopic 146: walk \ntopic 147: weather \ntopic 148: windshield \ntopic 149: write \ntopic 150: xerox palo alto research center \n",
          "output_type": "stream"
        }
      ]
    },
    {
      "cell_type": "code",
      "source": [
        "for candidate, weight in extractor.weights.items():\n",
        "        print('{}: {}'.format(candidate, weight))"
      ],
      "metadata": {
        "execution": {
          "iopub.status.busy": "2022-09-22T16:39:07.258157Z",
          "iopub.execute_input": "2022-09-22T16:39:07.258612Z",
          "iopub.status.idle": "2022-09-22T16:39:07.266060Z",
          "shell.execute_reply.started": "2022-09-22T16:39:07.258571Z",
          "shell.execute_reply": "2022-09-22T16:39:07.264878Z"
        },
        "trusted": true,
        "id": "6dK33nKDnytb",
        "outputId": "67d2464f-42ec-48d7-bbea-0ade47d66502"
      },
      "execution_count": null,
      "outputs": [
        {
          "name": "stdout",
          "text": "inform: 0.027393676209031208\nliteraci technolog: 0.008496202241905795\nprofound technolog: 0.017181341893653213\nworld: 0.023751539049134834\nhuman psycholog: 0.004481431939131448\nnew way: 0.010389133015374181\nnew goal: 0.004192353420485101\nsingl engin: 0.008032313661605527\nsingl box: 0.004840400326227023\nlaptop machin: 0.012937563469062571\ntoday: 0.009398729873604609\nvirtual realiti: 0.027513722054401897\nuser interfac problem: 0.008663982601077421\nreal potenti: 0.00807113723609627\nubiquit: 0.017459823680275398\nperson comput: 0.05539643868369513\ntypic workshop: 0.00863202727916609\nshop sign: 0.008639129387461319\nstreet sign: 0.008258735592269969\nspecial goggl: 0.009613943610211858\npeopl: 0.015056355424310934\nelectr motor: 0.012317757596613695\neveryday life: 0.007422027775705727\nexampl: 0.01098835125508435\nbook: 0.010924268486164831\ndata base: 0.009144684069041474\nconstant background presenc: 0.014808258878592892\nactiv attent: 0.01393199368098717\nabil: 0.0038383736516831527\naccess: 0.004618080930935236\naccount: 0.004446862195631874\nact: 0.005211145537521282\naddit: 0.005719218681905747\nairport: 0.004953202836982352\nanalog: 0.008962316003714513\napproach: 0.004050492027276813\narcan aura: 0.00448891506039492\nart: 0.004896974029359811\nartifici scene: 0.004925179868912554\nawar: 0.003706581211151675\nbeach: 0.004892754076924565\nbillboard: 0.00524027819269494\nbodysuit: 0.009795537493184042\ncandi wrapper: 0.0050056191767676415\ncell: 0.0056692947562212645\ncenturi: 0.004889898859802454\nchanc encount: 0.0056225853039324125\ncheap: 0.005851181978569332\nclay: 0.0044089579890652635\ncolleagu: 0.004178782389322672\ncomplex jargon: 0.004152636036582399\nconseious: 0.0050249431312896775\ncontext: 0.0045569027503246555\ncontrast: 0.00396294636417706\ncountri: 0.004723385704405161\ndemand focu: 0.004778517617150189\ndesk: 0.005269737085080977\ndifficult: 0.004453768104712866\ndisappear: 0.004420134279017126\ndistant planet: 0.005611295008671744\ndoor: 0.0032261302711231485\ndozen: 0.005452736040955523\ndriver: 0.0029922760113214432\ndynabook: 0.005121111124487274\neconomist: 0.0046452008790571495\nelectron shell: 0.004504528672627127\nenorm apparatu: 0.004685289672437341\nenviron: 0.003588185876724063\nessenc: 0.004063985082523103\neye: 0.004987631566525766\nfabric: 0.003599356145309575\nfactori: 0.005220322629095197\nfundament consequ: 0.004630196891099734\ngener: 0.005057083362073256\ngestur: 0.0048130517768428934\nglanc: 0.00784750957808014\nglove: 0.004987643603061681\ngraffiti: 0.005053040484032884\ngraphic: 0.005069912496191966\nhorizon: 0.00434528056077689\nhundr: 0.005654678747704191\nidea: 0.007809235608082064\ninaccess: 0.005602975047411771\nindistinguish: 0.003541917991658453\nindividu memori: 0.00552816175359172\ninfinit rich: 0.00519350541516409\nink: 0.00436074171385463\ninsid: 0.005667988538309179\nintegr: 0.0037223007128100263\njungl: 0.0052661434592504676\nknowledg navig: 0.004914176677547617\nlanguag: 0.004320042276287608\nlarg run: 0.004958152443040018\nlimit: 0.005101906978534138\nlongterm storag: 0.004909194144141987\nmagazin: 0.005317410814343066\nmap: 0.004863657883156829\nmartin heidegg: 0.0039537726329061116\nmillion: 0.004062447795501918\nmotion: 0.004974653117553487\nmotiv forc: 0.0038714867692255595\nnewspap: 0.005129835345262642\nnotion: 0.00870338539738551\nnumber: 0.0050132384475888615\noffic: 0.0052248464942737174\nopposit: 0.00444862803845733\npare: 0.0047144907823659585\nperiod: 0.005032865029222612\nperipheri: 0.0042465382090358245\nphenomenon: 0.004385477807534882\nphilosoph michael polanyi: 0.004331167412562193\npossibl: 0.004492452308597805\npresentday trend: 0.005354048245965444\nprocess: 0.004422994387024072\nproduct: 0.004780083834211779\npulley: 0.0059267876391022505\npurpos: 0.004689432517696278\nread: 0.005328456794485954\nreadi: 0.0047501896987017\nreadytohand john seeli brown: 0.005014474601713856\nrealm: 0.005494523424694107\nscribe: 0.004795997072377389\nshaft: 0.005891465131679652\nsmall: 0.0056286985421554565\nsolenoid: 0.0039311202214650075\nsound: 0.005318574864532504\nstate: 0.004878470891118119\nstrong: 0.0044633316293960995\nsuperlaptop: 0.0043075969655088754\nsurfac: 0.005593288703851507\nsystem: 0.005608977514421544\ntask: 0.004370338950212714\nterm: 0.004574136003561638\nterritori: 0.004920524408156083\ntext: 0.005588210266085023\nthing: 0.004051686053890967\nthink: 0.00477337116540231\ntool: 0.004111991589890208\ntransit step: 0.004357743816955364\ntree: 0.006047179685407982\nturn: 0.0046846034699342155\nunivers: 0.005178116244701027\nuse: 0.004894903132764987\nvanish: 0.00497951741585191\nvideo: 0.005668901327461469\nvision: 0.007959876831675539\nwalk: 0.005934154963694161\nweather: 0.006014748104810926\nwindshield: 0.0035568230755647977\nwrite: 0.014413475542761392\nxerox palo alto research center: 0.00426941603066931\n",
          "output_type": "stream"
        }
      ]
    },
    {
      "cell_type": "code",
      "source": [
        "keyphrases = extractor.get_n_best(n=5, stemming=False)\n",
        "for i, (candidate, score) in enumerate(keyphrases):\n",
        "    print(\"rank {}: {} ({})\".format(i, candidate, score))"
      ],
      "metadata": {
        "execution": {
          "iopub.status.busy": "2022-09-22T16:39:27.345134Z",
          "iopub.execute_input": "2022-09-22T16:39:27.345565Z",
          "iopub.status.idle": "2022-09-22T16:39:27.352877Z",
          "shell.execute_reply.started": "2022-09-22T16:39:27.345530Z",
          "shell.execute_reply": "2022-09-22T16:39:27.351523Z"
        },
        "trusted": true,
        "id": "R_qJP8C7nytc",
        "outputId": "d6ecd82c-97bf-4abc-e24b-8158d75e2305"
      },
      "execution_count": null,
      "outputs": [
        {
          "name": "stdout",
          "text": "rank 0: personal computers (0.06393357310658285)\nrank 1: first information technology (0.027161419196363428)\nrank 2: virtual reality (0.02676170366615915)\nrank 3: world (0.024020837799097056)\nrank 4: people (0.020366836776938502)\n",
          "output_type": "stream"
        }
      ]
    },
    {
      "cell_type": "markdown",
      "source": [
        "## Topic rank "
      ],
      "metadata": {
        "id": "rUCMlf1ynytc"
      }
    },
    {
      "cell_type": "code",
      "source": [
        "biglist = []\n",
        "\n",
        "def alllist (var):\n",
        "    for i in var:\n",
        "        biglist.append(i[0])"
      ],
      "metadata": {
        "execution": {
          "iopub.status.busy": "2022-09-22T16:39:49.692663Z",
          "iopub.execute_input": "2022-09-22T16:39:49.693082Z",
          "iopub.status.idle": "2022-09-22T16:39:49.699340Z",
          "shell.execute_reply.started": "2022-09-22T16:39:49.693049Z",
          "shell.execute_reply": "2022-09-22T16:39:49.697865Z"
        },
        "trusted": true,
        "id": "1Gw3dG5Nnyte"
      },
      "execution_count": null,
      "outputs": []
    },
    {
      "cell_type": "code",
      "source": [
        "grammar=\"NP: {<ADJ>*<NOUN|PROPN>+}\"\n",
        "extractor = pke.unsupervised.TopicRank()\n",
        "extractor.load_document(input=contents, language='en')\n",
        "extractor.grammar_selection(grammar=grammar)\n",
        "extractor.candidate_weighting()\n",
        "keyphrases = extractor.get_n_best(n=5, stemming=True)\n",
        "\n",
        "top5 = [candidate for candidate, weight in keyphrases]\n",
        "print(\"top-5 keyphrases:\", '; '.join(top5))\n",
        "alllist (keyphrases)"
      ],
      "metadata": {
        "execution": {
          "iopub.status.busy": "2022-09-22T16:39:51.529455Z",
          "iopub.execute_input": "2022-09-22T16:39:51.530410Z",
          "iopub.status.idle": "2022-09-22T16:39:54.327912Z",
          "shell.execute_reply.started": "2022-09-22T16:39:51.530369Z",
          "shell.execute_reply": "2022-09-22T16:39:54.326764Z"
        },
        "trusted": true,
        "id": "_-lTnrG9nyte",
        "outputId": "3c46501e-510d-4e78-de08-fa0fa32c5677"
      },
      "execution_count": null,
      "outputs": [
        {
          "name": "stdout",
          "text": "top-5 keyphrases: person comput; first inform technolog; virtual realiti; world; peopl\n",
          "output_type": "stream"
        }
      ]
    },
    {
      "cell_type": "markdown",
      "source": [
        "## KPMiner"
      ],
      "metadata": {
        "id": "7nbgd0aqnytf"
      }
    },
    {
      "cell_type": "code",
      "source": [
        "extract = pke.unsupervised.KPMiner()\n",
        "extract.load_document(input=contents, language='en')\n",
        "extract.candidate_selection()\n",
        "extract.candidate_weighting()\n",
        "keyphrases = extract.get_n_best(n=10)\n",
        "alllist (keyphrases)"
      ],
      "metadata": {
        "execution": {
          "iopub.status.busy": "2022-09-22T16:39:55.219435Z",
          "iopub.execute_input": "2022-09-22T16:39:55.220517Z",
          "iopub.status.idle": "2022-09-22T16:39:59.635375Z",
          "shell.execute_reply.started": "2022-09-22T16:39:55.220457Z",
          "shell.execute_reply": "2022-09-22T16:39:59.633670Z"
        },
        "trusted": true,
        "id": "gIahM8JZnytf"
      },
      "execution_count": null,
      "outputs": []
    },
    {
      "cell_type": "markdown",
      "source": [
        "## MultipartiteRank"
      ],
      "metadata": {
        "id": "1pVvEVHInytg"
      }
    },
    {
      "cell_type": "code",
      "source": [
        "grammar=\"NP: {<ADJ>*<NOUN|PROPN>+}\"\n",
        "extractor = pke.unsupervised.MultipartiteRank()\n",
        "extractor.load_document(input=contents, language='en')\n",
        "extractor.grammar_selection(grammar=grammar)\n",
        "extractor.candidate_weighting()\n",
        "keyphrases = extractor.get_n_best(n=5, stemming=True)\n",
        "\n",
        "top5 = [candidate for candidate, weight in keyphrases]\n",
        "top5\n",
        "alllist (keyphrases)"
      ],
      "metadata": {
        "execution": {
          "iopub.status.busy": "2022-09-22T16:40:10.381238Z",
          "iopub.execute_input": "2022-09-22T16:40:10.381690Z",
          "iopub.status.idle": "2022-09-22T16:40:13.728538Z",
          "shell.execute_reply.started": "2022-09-22T16:40:10.381649Z",
          "shell.execute_reply": "2022-09-22T16:40:13.727088Z"
        },
        "trusted": true,
        "id": "qRh1Kc7enytg"
      },
      "execution_count": null,
      "outputs": []
    },
    {
      "cell_type": "markdown",
      "source": [
        "## FirstPhrases"
      ],
      "metadata": {
        "id": "-TXTwa1Vnytg"
      }
    },
    {
      "cell_type": "code",
      "source": [
        "list1=[]\n",
        "pos = {'NOUN', 'PROPN', 'ADJ'}\n",
        "extractor = pke.unsupervised.FirstPhrases()\n",
        "extractor.load_document(input=contents, language='en')\n",
        "extractor.candidate_selection(pos=pos)\n",
        "extractor.candidate_weighting()\n",
        "keyphrases = extractor.get_n_best(n=10)\n",
        "list1.append(keyphrases)\n",
        "list1\n",
        "alllist (keyphrases)"
      ],
      "metadata": {
        "execution": {
          "iopub.status.busy": "2022-09-22T16:40:13.730730Z",
          "iopub.execute_input": "2022-09-22T16:40:13.731090Z",
          "iopub.status.idle": "2022-09-22T16:40:16.043119Z",
          "shell.execute_reply.started": "2022-09-22T16:40:13.731054Z",
          "shell.execute_reply": "2022-09-22T16:40:16.041804Z"
        },
        "trusted": true,
        "id": "PfvY4qzHnytg"
      },
      "execution_count": null,
      "outputs": []
    },
    {
      "cell_type": "markdown",
      "source": [
        "## Yake"
      ],
      "metadata": {
        "id": "BCIx6prVnyth"
      }
    },
    {
      "cell_type": "code",
      "source": [
        "from pke.lang import stopwords\n",
        "extractor = pke.unsupervised.YAKE()\n",
        "stoplist = stopwords.get('english')\n",
        "extractor.load_document(input=contents,language='en',stoplist=stoplist)\n",
        "extractor.candidate_selection()\n",
        "window = 2\n",
        "use_stems = False \n",
        "extractor.candidate_weighting()\n",
        "threshold = 0.8\n",
        "keyphrases = extractor.get_n_best(n=10)\n",
        "alllist (keyphrases)"
      ],
      "metadata": {
        "execution": {
          "iopub.status.busy": "2022-09-22T16:41:26.036185Z",
          "iopub.execute_input": "2022-09-22T16:41:26.037161Z",
          "iopub.status.idle": "2022-09-22T16:41:28.298972Z",
          "shell.execute_reply.started": "2022-09-22T16:41:26.037100Z",
          "shell.execute_reply": "2022-09-22T16:41:28.297645Z"
        },
        "trusted": true,
        "id": "2-FSxej_nyth"
      },
      "execution_count": null,
      "outputs": []
    },
    {
      "cell_type": "markdown",
      "source": [
        "## WINGNUS"
      ],
      "metadata": {
        "id": "UFyD-mFZnyth"
      }
    },
    {
      "cell_type": "code",
      "source": [
        "extractor = pke.supervised.WINGNUS()\n",
        "extractor.load_document(input=contents,language='en')\n",
        "extractor.candidate_selection()\n",
        "extractor.candidate_weighting()\n",
        "keyphrases = extractor.get_n_best(n=10)\n",
        "alllist (keyphrases)"
      ],
      "metadata": {
        "execution": {
          "iopub.status.busy": "2022-09-22T17:03:59.314425Z",
          "iopub.execute_input": "2022-09-22T17:03:59.314866Z",
          "iopub.status.idle": "2022-09-22T17:04:04.233905Z",
          "shell.execute_reply.started": "2022-09-22T17:03:59.314820Z",
          "shell.execute_reply": "2022-09-22T17:04:04.232707Z"
        },
        "trusted": true,
        "id": "CeUp3F-mnyti"
      },
      "execution_count": null,
      "outputs": []
    },
    {
      "cell_type": "markdown",
      "source": [
        "## KEA"
      ],
      "metadata": {
        "id": "yYYSIue5nyti"
      }
    },
    {
      "cell_type": "code",
      "source": [
        "extractor = pke.supervised.Kea()\n",
        "stoplist = pke.lang.stopwords.get('en')\n",
        "extractor.load_document(input=contents,language='en',stoplist=stoplist)\n",
        "extractor.candidate_selection()\n",
        "extractor.candidate_weighting()\n",
        "keyphrases = extractor.get_n_best(n=10)\n",
        "alllist (keyphrases)"
      ],
      "metadata": {
        "execution": {
          "iopub.status.busy": "2022-09-22T17:04:04.235794Z",
          "iopub.execute_input": "2022-09-22T17:04:04.236176Z",
          "iopub.status.idle": "2022-09-22T17:04:09.003588Z",
          "shell.execute_reply.started": "2022-09-22T17:04:04.236141Z",
          "shell.execute_reply": "2022-09-22T17:04:09.002204Z"
        },
        "trusted": true,
        "id": "u9j11W6Hnyti"
      },
      "execution_count": null,
      "outputs": []
    },
    {
      "cell_type": "markdown",
      "source": [
        "## PositionRank"
      ],
      "metadata": {
        "id": "N8poWmLWnytj"
      }
    },
    {
      "cell_type": "code",
      "source": [
        "pos = {'NOUN', 'PROPN', 'ADJ'}\n",
        "grammar = \"NP: {<ADJ>*<NOUN|PROPN>+}\"\n",
        "extractor = pke.unsupervised.PositionRank()\n",
        "extractor.load_document(input=contents,language='en')\n",
        "extractor.candidate_selection(grammar=grammar,maximum_word_number=3)\n",
        "extractor.candidate_weighting(window=10,pos=pos)\n",
        "keyphrases = extractor.get_n_best(n=10)\n",
        "alllist (keyphrases)"
      ],
      "metadata": {
        "execution": {
          "iopub.status.busy": "2022-09-22T16:41:38.807274Z",
          "iopub.execute_input": "2022-09-22T16:41:38.807608Z",
          "iopub.status.idle": "2022-09-22T16:41:41.105737Z",
          "shell.execute_reply.started": "2022-09-22T16:41:38.807576Z",
          "shell.execute_reply": "2022-09-22T16:41:41.104720Z"
        },
        "trusted": true,
        "id": "yKdShippnytj"
      },
      "execution_count": null,
      "outputs": []
    },
    {
      "cell_type": "markdown",
      "source": [
        "## TOPICAL RANK"
      ],
      "metadata": {
        "id": "eNBtThVXnytj"
      }
    },
    {
      "cell_type": "code",
      "source": [
        "l2=[]\n",
        "pos = {'NOUN', 'PROPN', 'ADJ'}\n",
        "grammar = \"NP: {<ADJ>*<NOUN|PROPN>+}\"\n",
        "extractor = pke.unsupervised.TopicalPageRank()\n",
        "extractor.load_document(input=contents,language='en')\n",
        "extractor.candidate_selection(grammar=grammar)\n",
        "extractor.candidate_weighting(window=10,pos=pos)\n",
        "keyphrases = extractor.get_n_best(n=10)\n",
        "alllist (keyphrases)"
      ],
      "metadata": {
        "execution": {
          "iopub.status.busy": "2022-09-22T17:04:09.006282Z",
          "iopub.execute_input": "2022-09-22T17:04:09.007473Z",
          "iopub.status.idle": "2022-09-22T17:04:12.544709Z",
          "shell.execute_reply.started": "2022-09-22T17:04:09.007432Z",
          "shell.execute_reply": "2022-09-22T17:04:12.543576Z"
        },
        "trusted": true,
        "id": "dVS0D33Ynytk"
      },
      "execution_count": null,
      "outputs": []
    },
    {
      "cell_type": "markdown",
      "source": [
        "## single rank"
      ],
      "metadata": {
        "id": "k99m3HgXnytk"
      }
    },
    {
      "cell_type": "code",
      "source": [
        "l3=[]\n",
        "pos = {'NOUN', 'PROPN', 'ADJ'}\n",
        "extractor = pke.unsupervised.SingleRank()\n",
        "extractor.load_document(input=contents,language='en')\n",
        "extractor.candidate_selection(pos=pos)\n",
        "extractor.candidate_weighting(window=10,pos=pos)\n",
        "keyphrases = extractor.get_n_best(n=10)\n",
        "l3.append(keyphrases)\n",
        "l3\n",
        "alllist (keyphrases)"
      ],
      "metadata": {
        "execution": {
          "iopub.status.busy": "2022-09-22T16:41:44.542871Z",
          "iopub.execute_input": "2022-09-22T16:41:44.543269Z",
          "iopub.status.idle": "2022-09-22T16:41:46.869516Z",
          "shell.execute_reply.started": "2022-09-22T16:41:44.543233Z",
          "shell.execute_reply": "2022-09-22T16:41:46.868406Z"
        },
        "trusted": true,
        "id": "KWSHcD0pnytk"
      },
      "execution_count": null,
      "outputs": []
    },
    {
      "cell_type": "markdown",
      "source": [
        "## text rank"
      ],
      "metadata": {
        "id": "1vEPzFhYnytl"
      }
    },
    {
      "cell_type": "code",
      "source": [
        "l4=[]\n",
        "pos = {'NOUN', 'PROPN', 'ADJ'}\n",
        "extractor = pke.unsupervised.TextRank()\n",
        "extractor.load_document(input=contents,language='en')\n",
        "extractor.candidate_weighting(window=2,pos=pos,top_percent=0.33)\n",
        "keyphrases = extractor.get_n_best(n=20)\n",
        "alllist (keyphrases)"
      ],
      "metadata": {
        "execution": {
          "iopub.status.busy": "2022-09-22T16:41:53.736452Z",
          "iopub.execute_input": "2022-09-22T16:41:53.737411Z",
          "iopub.status.idle": "2022-09-22T16:41:56.722734Z",
          "shell.execute_reply.started": "2022-09-22T16:41:53.737365Z",
          "shell.execute_reply": "2022-09-22T16:41:56.721547Z"
        },
        "trusted": true,
        "id": "W71gGm1wnytl"
      },
      "execution_count": null,
      "outputs": []
    },
    {
      "cell_type": "code",
      "source": [
        "ss= set(biglist)\n",
        "for i in ss :\n",
        "    print(i[:15] , biglist.count(i))"
      ],
      "metadata": {
        "execution": {
          "iopub.status.busy": "2022-09-22T16:43:47.840427Z",
          "iopub.execute_input": "2022-09-22T16:43:47.841658Z",
          "iopub.status.idle": "2022-09-22T16:43:47.849159Z",
          "shell.execute_reply.started": "2022-09-22T16:43:47.841609Z",
          "shell.execute_reply": "2022-09-22T16:43:47.847917Z"
        },
        "trusted": true,
        "id": "TFJT5fPBnytl",
        "outputId": "ba0b7bd4-31dc-4a86-8ab1-baea1baf1793"
      },
      "execution_count": null,
      "outputs": [
        {
          "name": "stdout",
          "text": "motors 1\nfabric 1\nfirst inform te 2\nsigns 1\nprofound techno 3\neveryday life 2\ninlbrmation tec 1\nbooks 2\nindistinguishab 1\nlanguage 1\ntechnology 3\njohn seely 2\npeopl 1\nwriting 4\nworldwide infor 2\nconstant backgr 1\ntacit dimension 1\nhuman world 2\nbackground 2\nelectric motors 2\ncomput 1\nvirtual realiti 1\ninformation 5\ncomputer scient 2\nmultimedia mach 2\nindividual memo 1\ndisappear 2\ninvariants phil 2\ndifferent machi 2\nfreed 1\nperson comput 2\nliteracy techno 1\ndimension psych 2\nubiquitous 2\ncomputers 4\nuse 2\nshop signs 2\nuser interface  1\ncomputer screen 2\nliteracy 1\nwrite 1\npersonal comput 6\nability 1\nfirst informati 5\npowerful notebo 5\npeople 1\nother people 2\ninvisible 1\ntechnologies 2\ninvisible compu 4\nmachines 2\nstreet signs 2\nprofound techno 1\nlongterm storag 2\nsingle machine 2\nvirtual 2\nvirtual reality 4\nworld 4\nphilosopher mic 2\ncomputer 2\nherbert a. 2\nmultimedia comp 2\ninformation tec 7\npalo alto resea 2\nubiquitous comp 3\n",
          "output_type": "stream"
        }
      ]
    },
    {
      "cell_type": "markdown",
      "source": [
        "Mapping"
      ],
      "metadata": {
        "id": "S_-VfF6-ojTp"
      }
    },
    {
      "cell_type": "code",
      "source": [
        "from nltk.tokenize import sent_tokenize\n",
        "from flashtext import KeywordProcessor\n",
        "\n",
        "def tokenize_sentences(text):\n",
        "    sentences = [sent_tokenize(text)]\n",
        "    sentences = [y for x in sentences for y in x]\n",
        "    # Remove any short sentences less than 20 letters.\n",
        "    sentences = [sentence.strip() for sentence in sentences if len(sentence) > 20]\n",
        "    return sentences\n",
        "\n",
        "def get_sentences_for_keyword(keywords, sentences):\n",
        "    keyword_processor = KeywordProcessor()\n",
        "    keyword_sentences = {}\n",
        "    for word in keywords:\n",
        "        keyword_sentences[word] = []\n",
        "        keyword_processor.add_keyword(word)\n",
        "    for sentence in sentences:\n",
        "        keywords_found = keyword_processor.extract_keywords(sentence)\n",
        "        for key in keywords_found:\n",
        "            keyword_sentences[key].append(sentence)\n",
        "\n",
        "    for key in keyword_sentences.keys():\n",
        "        values = keyword_sentences[key]\n",
        "        values = sorted(values, key=len, reverse=True)\n",
        "        keyword_sentences[key] = values\n",
        "    return keyword_sentences\n",
        "\n",
        "sentences = tokenize_sentences(contents)\n",
        "keyword_sentence_mapping = get_sentences_for_keyword(ss, sentences)\n",
        "        "
      ],
      "metadata": {
        "execution": {
          "iopub.status.busy": "2022-09-22T16:43:52.020679Z",
          "iopub.execute_input": "2022-09-22T16:43:52.021091Z",
          "iopub.status.idle": "2022-09-22T16:43:52.050197Z",
          "shell.execute_reply.started": "2022-09-22T16:43:52.021057Z",
          "shell.execute_reply": "2022-09-22T16:43:52.049178Z"
        },
        "trusted": true,
        "id": "EMNPZffhnytm"
      },
      "execution_count": null,
      "outputs": []
    },
    {
      "cell_type": "markdown",
      "source": [
        "NLP Models"
      ],
      "metadata": {
        "id": "CbrqFbpfomnq"
      }
    },
    {
      "cell_type": "code",
      "source": [
        "!pip install -U transformers==3.0.0\n",
        "!python -m nltk.downloader punkt\n",
        "!git clone https://github.com/patil-suraj/question_generation.git"
      ],
      "metadata": {
        "execution": {
          "iopub.status.busy": "2022-09-22T16:43:58.492033Z",
          "iopub.execute_input": "2022-09-22T16:43:58.492948Z",
          "iopub.status.idle": "2022-09-22T16:44:19.453161Z",
          "shell.execute_reply.started": "2022-09-22T16:43:58.492899Z",
          "shell.execute_reply": "2022-09-22T16:44:19.451593Z"
        },
        "trusted": true,
        "id": "Xh9D0HeInytm"
      },
      "execution_count": null,
      "outputs": []
    },
    {
      "cell_type": "code",
      "source": [
        "%cd question_generation"
      ],
      "metadata": {
        "execution": {
          "iopub.status.busy": "2022-09-22T16:44:19.455520Z",
          "iopub.execute_input": "2022-09-22T16:44:19.455901Z",
          "iopub.status.idle": "2022-09-22T16:44:19.467490Z",
          "shell.execute_reply.started": "2022-09-22T16:44:19.455863Z",
          "shell.execute_reply": "2022-09-22T16:44:19.466362Z"
        },
        "trusted": true,
        "id": "zg_NUfPcnytn",
        "outputId": "020920bb-4474-4fda-d9d8-25c4f51792b6"
      },
      "execution_count": null,
      "outputs": [
        {
          "name": "stdout",
          "text": "/kaggle/working/question_generation\n",
          "output_type": "stream"
        }
      ]
    },
    {
      "cell_type": "code",
      "source": [
        "from pipelines import pipeline "
      ],
      "metadata": {
        "execution": {
          "iopub.status.busy": "2022-09-22T17:04:12.546678Z",
          "iopub.execute_input": "2022-09-22T17:04:12.547022Z",
          "iopub.status.idle": "2022-09-22T17:04:12.552132Z",
          "shell.execute_reply.started": "2022-09-22T17:04:12.546991Z",
          "shell.execute_reply": "2022-09-22T17:04:12.550963Z"
        },
        "trusted": true,
        "id": "0vaP5_BDnytn"
      },
      "execution_count": null,
      "outputs": []
    },
    {
      "cell_type": "code",
      "source": [
        "text1=\"Generally, this process begins with descriptive analytics. This is the process of describing historical trends in data. Descriptive analytics aims to answer the question “what happened?” This often involves measuring traditional indicators such as return on investment (ROI). The indicators used will be different for each industry. Descriptive analytics does not make predictions or directly inform decisions. It focuses on summarizing data in a meaningful and descriptive way\\\n",
        "The next essential part of data analytics is advanced analytics. This part of data science takes advantage of advanced tools to extract data, make predictions and discover trends. These tools include classical statistics as well as machine learning. Machine learning technologies such as neural networks, natural language processing, sentiment analysis and more enable advanced analytics. This information provides new insight from data. Advanced analytics addresses “what if?” questions.\\\n",
        "The availability of machine learning techniques, massive data sets, and cheap computing power has enabled the use of these techniques in many industries. The collection of big data sets is instrumental in enabling these techniques. Big data analytics enables businesses to draw meaningful conclusions from complex and varied data sources, which has been made possible by advances in parallel processing and cheap computational power\"\n",
        "\n",
        "text2=\"The internet of things (IoT) is a field that is used alongside machine learning. These devices provide a great opportunity for data analytics. IoT devices often contain many sensors that collect meaningful data points for their operation. Devices like the Nest thermostat track movement and temperature to regulate heating and cooling.\\\n",
        "Smart devices like this can use data to learn from and predict your behaviorExternal link:open_in_new.\\\n",
        "This will provide advance home automation that can adapt to the way you live\"\n",
        "\n",
        "text3=\"Data mining is an essential process for many data analytics tasks. This involves extracting data from unstructured data sources.\\\n",
        "These may include written text, large complex databases, or raw sensor data. The key steps in this process are to extract, transform, and load data (often called ETL.)\\\n",
        "These steps convert raw data into a useful and manageable format. This prepares data for storage and analysis. Data mining is generally the most time-intensive step in the data analysis pipeline.\"\n",
        "\n",
        "\n",
        "text4=\"The applications of data analytics are broad. Analyzing big data can optimize efficiency in many different industries. Improving performance enables businesses to succeed\\\n",
        "in an increasingly competitive world\"\n"
      ],
      "metadata": {
        "execution": {
          "iopub.status.busy": "2022-09-22T16:45:20.419253Z",
          "iopub.execute_input": "2022-09-22T16:45:20.419678Z",
          "iopub.status.idle": "2022-09-22T16:45:20.426809Z",
          "shell.execute_reply.started": "2022-09-22T16:45:20.419645Z",
          "shell.execute_reply": "2022-09-22T16:45:20.425603Z"
        },
        "trusted": true,
        "id": "BOeWCCU1nytn"
      },
      "execution_count": null,
      "outputs": []
    },
    {
      "cell_type": "code",
      "source": [
        "nlp = pipeline(\"question-generation\")\n",
        "nlp(text3)"
      ],
      "metadata": {
        "execution": {
          "iopub.status.busy": "2022-09-22T17:04:20.879645Z",
          "iopub.execute_input": "2022-09-22T17:04:20.880576Z",
          "iopub.status.idle": "2022-09-22T17:04:35.484546Z",
          "shell.execute_reply.started": "2022-09-22T17:04:20.880529Z",
          "shell.execute_reply": "2022-09-22T17:04:35.483203Z"
        },
        "trusted": true,
        "id": "zX7cpW-enyto",
        "outputId": "ef21a88d-14a1-4ead-f661-fcd64755a810"
      },
      "execution_count": null,
      "outputs": [
        {
          "execution_count": 107,
          "output_type": "execute_result",
          "data": {
            "text/plain": "[{'answer': 'computational learning theory',\n  'question': 'What is the computational analysis of machine learning algorithms known as?'},\n {'answer': 'bias–variance decomposition',\n  'question': 'What is one way to quantify generalization error?'}]"
          },
          "metadata": {}
        }
      ]
    },
    {
      "cell_type": "code",
      "source": [
        "nlp = pipeline(\"question-generation\", model=\"valhalla/t5-base-qg-hl\")"
      ],
      "metadata": {
        "execution": {
          "iopub.status.busy": "2022-09-22T17:05:09.354482Z",
          "iopub.execute_input": "2022-09-22T17:05:09.356054Z",
          "iopub.status.idle": "2022-09-22T17:05:25.294281Z",
          "shell.execute_reply.started": "2022-09-22T17:05:09.355964Z",
          "shell.execute_reply": "2022-09-22T17:05:25.292643Z"
        },
        "trusted": true,
        "id": "kwBTY54Onytp"
      },
      "execution_count": null,
      "outputs": []
    },
    {
      "cell_type": "code",
      "source": [
        "nlp(text3)"
      ],
      "metadata": {
        "execution": {
          "iopub.status.busy": "2022-09-22T16:48:39.138773Z",
          "iopub.execute_input": "2022-09-22T16:48:39.139231Z",
          "iopub.status.idle": "2022-09-22T16:48:45.622136Z",
          "shell.execute_reply.started": "2022-09-22T16:48:39.139189Z",
          "shell.execute_reply": "2022-09-22T16:48:45.620939Z"
        },
        "trusted": true,
        "id": "I0CCPggQnytp",
        "outputId": "20577cda-778d-4ade-ba64-015876a7cea0"
      },
      "execution_count": null,
      "outputs": [
        {
          "execution_count": 79,
          "output_type": "execute_result",
          "data": {
            "text/plain": "[{'answer': 'computational learning theory',\n  'question': 'What is the computational analysis of machine learning algorithms and their performance a branch of theoretical computer science known as?'},\n {'answer': 'bias–variance decomposition',\n  'question': 'What is one way to quantify generalization error?'}]"
          },
          "metadata": {}
        }
      ]
    },
    {
      "cell_type": "code",
      "source": [
        "nlp(text4)"
      ],
      "metadata": {
        "execution": {
          "iopub.status.busy": "2022-09-22T16:48:45.624190Z",
          "iopub.execute_input": "2022-09-22T16:48:45.624559Z",
          "iopub.status.idle": "2022-09-22T16:48:53.051896Z",
          "shell.execute_reply.started": "2022-09-22T16:48:45.624525Z",
          "shell.execute_reply": "2022-09-22T16:48:53.050745Z"
        },
        "trusted": true,
        "id": "H8NpBK2Tnytp",
        "outputId": "d5953dfb-0dd6-4684-ab5b-341bb9430497"
      },
      "execution_count": null,
      "outputs": [
        {
          "execution_count": 80,
          "output_type": "execute_result",
          "data": {
            "text/plain": "[{'answer': 'broad',\n  'question': 'What kind of applications are the applications of data analytics?'},\n {'answer': 'Analyzing big data',\n  'question': 'What can optimize efficiency in many different industries?'},\n {'answer': 'Improving performance',\n  'question': 'What enables businesses to succeed in an increasingly competitive world?'}]"
          },
          "metadata": {}
        }
      ]
    },
    {
      "cell_type": "code",
      "source": [
        "nlp(text2)"
      ],
      "metadata": {
        "execution": {
          "iopub.status.busy": "2022-09-22T16:48:53.054507Z",
          "iopub.execute_input": "2022-09-22T16:48:53.055195Z",
          "iopub.status.idle": "2022-09-22T16:49:14.702991Z",
          "shell.execute_reply.started": "2022-09-22T16:48:53.055143Z",
          "shell.execute_reply": "2022-09-22T16:49:14.700653Z"
        },
        "trusted": true,
        "id": "r6fa4kWTnytp",
        "outputId": "e2f575bc-d2de-43c6-848c-e5e15c2a2fae"
      },
      "execution_count": null,
      "outputs": [
        {
          "execution_count": 81,
          "output_type": "execute_result",
          "data": {
            "text/plain": "[{'answer': 'Machine learning programs',\n  'question': 'What can perform tasks without being explicitly programmed to do so?'},\n {'answer': 'data provided',\n  'question': 'What does machine learning involve computers learning from?'},\n {'answer': 'simple tasks assigned to computers',\n  'question': 'What is it possible to program algorithms telling the machine how to execute all steps required to solve the problem at hand?'},\n {'answer': 'manually create the needed algorithms',\n  'question': 'For more advanced tasks, it can be challenging for a human to do what?'},\n {'answer': 'it can turn out to be more effective to help the machine develop its own algorithm',\n  'question': 'Why is it more effective for a machine to create its own algorithm?'}]"
          },
          "metadata": {}
        }
      ]
    },
    {
      "cell_type": "code",
      "source": [
        "nlp = pipeline(\"e2e-qg\", model=\"valhalla/t5-base-e2e-qg\")"
      ],
      "metadata": {
        "execution": {
          "iopub.status.busy": "2022-09-22T16:49:14.707106Z",
          "iopub.execute_input": "2022-09-22T16:49:14.707599Z",
          "iopub.status.idle": "2022-09-22T16:49:56.165761Z",
          "shell.execute_reply.started": "2022-09-22T16:49:14.707556Z",
          "shell.execute_reply": "2022-09-22T16:49:56.164549Z"
        },
        "trusted": true,
        "colab": {
          "referenced_widgets": [
            "608af75a38794f4d818295fe0c21b0c5",
            "f1ac10d9f9dc44ee99d268bdbfb28878",
            "d63cffaca103461fa0f2c8faf798caeb",
            "5765c965f00b4a0f9479b8970ba7c108",
            "d52e031902754d7ead5af9efd7e4273b",
            "e67e90354cad40b6acb3d75ac7114b99"
          ]
        },
        "id": "4L7R4y6snytq",
        "outputId": "63571171-e60e-428d-c875-6a53cd7723d4"
      },
      "execution_count": null,
      "outputs": [
        {
          "output_type": "display_data",
          "data": {
            "text/plain": "Downloading:   0%|          | 0.00/1.35k [00:00<?, ?B/s]",
            "application/vnd.jupyter.widget-view+json": {
              "version_major": 2,
              "version_minor": 0,
              "model_id": "608af75a38794f4d818295fe0c21b0c5"
            }
          },
          "metadata": {}
        },
        {
          "output_type": "display_data",
          "data": {
            "text/plain": "Downloading:   0%|          | 0.00/792k [00:00<?, ?B/s]",
            "application/vnd.jupyter.widget-view+json": {
              "version_major": 2,
              "version_minor": 0,
              "model_id": "f1ac10d9f9dc44ee99d268bdbfb28878"
            }
          },
          "metadata": {}
        },
        {
          "output_type": "display_data",
          "data": {
            "text/plain": "Downloading:   0%|          | 0.00/31.0 [00:00<?, ?B/s]",
            "application/vnd.jupyter.widget-view+json": {
              "version_major": 2,
              "version_minor": 0,
              "model_id": "d63cffaca103461fa0f2c8faf798caeb"
            }
          },
          "metadata": {}
        },
        {
          "output_type": "display_data",
          "data": {
            "text/plain": "Downloading:   0%|          | 0.00/1.79k [00:00<?, ?B/s]",
            "application/vnd.jupyter.widget-view+json": {
              "version_major": 2,
              "version_minor": 0,
              "model_id": "5765c965f00b4a0f9479b8970ba7c108"
            }
          },
          "metadata": {}
        },
        {
          "output_type": "display_data",
          "data": {
            "text/plain": "Downloading:   0%|          | 0.00/195 [00:00<?, ?B/s]",
            "application/vnd.jupyter.widget-view+json": {
              "version_major": 2,
              "version_minor": 0,
              "model_id": "d52e031902754d7ead5af9efd7e4273b"
            }
          },
          "metadata": {}
        },
        {
          "output_type": "display_data",
          "data": {
            "text/plain": "Downloading:   0%|          | 0.00/892M [00:00<?, ?B/s]",
            "application/vnd.jupyter.widget-view+json": {
              "version_major": 2,
              "version_minor": 0,
              "model_id": "e67e90354cad40b6acb3d75ac7114b99"
            }
          },
          "metadata": {}
        }
      ]
    },
    {
      "cell_type": "code",
      "source": [
        "nlp(text1)"
      ],
      "metadata": {
        "execution": {
          "iopub.status.busy": "2022-09-22T16:49:56.168675Z",
          "iopub.execute_input": "2022-09-22T16:49:56.169057Z",
          "iopub.status.idle": "2022-09-22T16:50:00.861320Z",
          "shell.execute_reply.started": "2022-09-22T16:49:56.169020Z",
          "shell.execute_reply": "2022-09-22T16:50:00.860169Z"
        },
        "trusted": true,
        "id": "sYj6P1kVnytq",
        "outputId": "0bbcd181-5e83-42e0-fc86-6b6587ecb9c7"
      },
      "execution_count": null,
      "outputs": [
        {
          "execution_count": 83,
          "output_type": "execute_result",
          "data": {
            "text/plain": "['What is the process of describing historical trends in data called?',\n 'What does descriptive analytics aim to answer the question?',\n 'Descriptive analytics does not make predictions or directly inform what?',\n 'Advanced analytics takes advantage of what advanced tools to extract data?']"
          },
          "metadata": {}
        }
      ]
    },
    {
      "cell_type": "code",
      "source": [
        "nlp(text2)"
      ],
      "metadata": {
        "execution": {
          "iopub.status.busy": "2022-09-22T16:50:00.862934Z",
          "iopub.execute_input": "2022-09-22T16:50:00.863411Z",
          "iopub.status.idle": "2022-09-22T16:50:04.837293Z",
          "shell.execute_reply.started": "2022-09-22T16:50:00.863365Z",
          "shell.execute_reply": "2022-09-22T16:50:04.836016Z"
        },
        "trusted": true,
        "id": "Yo0egVHGnytq",
        "outputId": "a17ba003-f59e-4039-b19e-30396025d8cd"
      },
      "execution_count": null,
      "outputs": [
        {
          "execution_count": 84,
          "output_type": "execute_result",
          "data": {
            "text/plain": "['What type of programs can perform tasks without being explicitly programmed to do so?',\n 'What involves computers learning from data provided so that they carry out certain tasks?',\n 'For simple tasks assigned to computers, what is possible to program algorithms telling the machine how to do?']"
          },
          "metadata": {}
        }
      ]
    },
    {
      "cell_type": "code",
      "source": [
        "nlp(text4)"
      ],
      "metadata": {
        "execution": {
          "iopub.status.busy": "2022-09-22T16:50:04.839042Z",
          "iopub.execute_input": "2022-09-22T16:50:04.839764Z",
          "iopub.status.idle": "2022-09-22T16:50:07.415688Z",
          "shell.execute_reply.started": "2022-09-22T16:50:04.839716Z",
          "shell.execute_reply": "2022-09-22T16:50:07.414313Z"
        },
        "trusted": true,
        "id": "gcbVU1uSnytr",
        "outputId": "0a49f202-6543-4bef-a976-4f620c8a7152"
      },
      "execution_count": null,
      "outputs": [
        {
          "execution_count": 85,
          "output_type": "execute_result",
          "data": {
            "text/plain": "['What is one of the broad applications of data analytics?',\n 'Analyzing big data can optimize efficiency in many different industries.',\n 'Improving performance enables businesses to succeed in what world?']"
          },
          "metadata": {}
        }
      ]
    },
    {
      "cell_type": "markdown",
      "source": [
        "T5 Model with Wikipedia"
      ],
      "metadata": {
        "id": "JRzZX8byo59v"
      }
    },
    {
      "cell_type": "code",
      "source": [
        "!pip install Wikipedia-API\n",
        "\n",
        "import wikipediaapi\n",
        "\n",
        "wiki_wiki = wikipediaapi.Wikipedia('en')\n",
        "\n",
        "ml_art = wiki_wiki.page('Machine_Learning')\n",
        "\n",
        "print(\"Page - Exists: %s\" % ml_art.exists())\n",
        "\n",
        "print(\"Page - Title: %s\" % ml_art.title)\n",
        "\n",
        "print(\"Page - Summary: %s\" % ml_art.summary[0:60])\n",
        "\n",
        "print(ml_art.fullurl)\n",
        "\n",
        "ml_ftxt = ml_art.text"
      ],
      "metadata": {
        "execution": {
          "iopub.status.busy": "2022-09-22T17:04:50.869504Z",
          "iopub.execute_input": "2022-09-22T17:04:50.870007Z",
          "iopub.status.idle": "2022-09-22T17:05:03.541730Z",
          "shell.execute_reply.started": "2022-09-22T17:04:50.869957Z",
          "shell.execute_reply": "2022-09-22T17:05:03.540338Z"
        },
        "trusted": true,
        "id": "kgkFn5BQnytr"
      },
      "execution_count": null,
      "outputs": []
    },
    {
      "cell_type": "code",
      "source": [
        "import re \n",
        "ct= re.sub(r'\\n', \" \", ml_ftxt)"
      ],
      "metadata": {
        "execution": {
          "iopub.status.busy": "2022-09-22T16:50:21.550243Z",
          "iopub.execute_input": "2022-09-22T16:50:21.550833Z",
          "iopub.status.idle": "2022-09-22T16:50:21.559955Z",
          "shell.execute_reply.started": "2022-09-22T16:50:21.550793Z",
          "shell.execute_reply": "2022-09-22T16:50:21.559094Z"
        },
        "trusted": true,
        "id": "o3f3Id4nnytr"
      },
      "execution_count": null,
      "outputs": []
    },
    {
      "cell_type": "code",
      "source": [
        "tx = ct.translate(str.maketrans(' ', ' ','!\"#$%&\\'()*+-/:;<=>?@[\\\\]^_`{|}~'))"
      ],
      "metadata": {
        "execution": {
          "iopub.status.busy": "2022-09-22T16:50:21.561303Z",
          "iopub.execute_input": "2022-09-22T16:50:21.561880Z",
          "iopub.status.idle": "2022-09-22T16:50:21.577274Z",
          "shell.execute_reply.started": "2022-09-22T16:50:21.561844Z",
          "shell.execute_reply": "2022-09-22T16:50:21.576160Z"
        },
        "trusted": true,
        "id": "U3tnDrySnytr"
      },
      "execution_count": null,
      "outputs": []
    },
    {
      "cell_type": "code",
      "source": [
        "rm = re.sub(r'[A-Za-z0-9]*@[A-Za-z]*\\.?[A-Za-z0-9]*',\"\",tx )"
      ],
      "metadata": {
        "execution": {
          "iopub.status.busy": "2022-09-22T16:50:21.580667Z",
          "iopub.execute_input": "2022-09-22T16:50:21.581012Z",
          "iopub.status.idle": "2022-09-22T16:50:21.591923Z",
          "shell.execute_reply.started": "2022-09-22T16:50:21.580977Z",
          "shell.execute_reply": "2022-09-22T16:50:21.590817Z"
        },
        "trusted": true,
        "id": "Fwof1eE5nyts"
      },
      "execution_count": null,
      "outputs": []
    },
    {
      "cell_type": "code",
      "source": [
        "extractor = pke.unsupervised.TfIdf()\n",
        "extractor.load_document(input='rm')\n",
        "extractor.candidate_selection() \n",
        "extractor.candidate_weighting()\n",
        "keyphrases = extractor.get_n_best(n=10)\n",
        "extractor = pke.unsupervised.TopicRank()\n",
        "extractor.load_document(input=contents, language='en')"
      ],
      "metadata": {
        "execution": {
          "iopub.status.busy": "2022-09-22T16:50:21.593514Z",
          "iopub.execute_input": "2022-09-22T16:50:21.594731Z",
          "iopub.status.idle": "2022-09-22T16:50:29.647909Z",
          "shell.execute_reply.started": "2022-09-22T16:50:21.594685Z",
          "shell.execute_reply": "2022-09-22T16:50:29.646606Z"
        },
        "trusted": true,
        "id": "IdaKhtfdnyts"
      },
      "execution_count": null,
      "outputs": []
    },
    {
      "cell_type": "code",
      "source": [
        "keyphrases = extractor.get_n_best(n=5, stemming=False)\n",
        "for i, (candidate, score) in enumerate(keyphrases):\n",
        "    print(\"rank {}: {} ({})\".format(i, candidate, score))"
      ],
      "metadata": {
        "execution": {
          "iopub.status.busy": "2022-09-22T16:50:29.649667Z",
          "iopub.execute_input": "2022-09-22T16:50:29.650917Z",
          "iopub.status.idle": "2022-09-22T16:50:29.657302Z",
          "shell.execute_reply.started": "2022-09-22T16:50:29.650866Z",
          "shell.execute_reply": "2022-09-22T16:50:29.656353Z"
        },
        "trusted": true,
        "id": "Y8UlWGy1nyts"
      },
      "execution_count": null,
      "outputs": []
    },
    {
      "cell_type": "code",
      "source": [
        "biglist = []\n",
        "def alllist (var):\n",
        "    for i in var:\n",
        "        biglist.append(i[0])"
      ],
      "metadata": {
        "execution": {
          "iopub.status.busy": "2022-09-22T16:50:29.658768Z",
          "iopub.execute_input": "2022-09-22T16:50:29.659167Z",
          "iopub.status.idle": "2022-09-22T16:50:29.668386Z",
          "shell.execute_reply.started": "2022-09-22T16:50:29.659133Z",
          "shell.execute_reply": "2022-09-22T16:50:29.666876Z"
        },
        "trusted": true,
        "id": "oalznZ4tnyts"
      },
      "execution_count": null,
      "outputs": []
    },
    {
      "cell_type": "code",
      "source": [
        "list2=[]\n",
        "extract = pke.unsupervised.KPMiner()\n",
        "extract.load_document(input=contents, language='en')\n",
        "extract.candidate_selection()\n",
        "extract.candidate_weighting()\n",
        "keyphrases = extract.get_n_best(n=10)\n",
        "list2.append(keyphrases)\n",
        "alllist (keyphrases)"
      ],
      "metadata": {
        "execution": {
          "iopub.status.busy": "2022-09-22T16:50:29.670105Z",
          "iopub.execute_input": "2022-09-22T16:50:29.670543Z",
          "iopub.status.idle": "2022-09-22T16:50:35.191718Z",
          "shell.execute_reply.started": "2022-09-22T16:50:29.670497Z",
          "shell.execute_reply": "2022-09-22T16:50:35.190230Z"
        },
        "trusted": true,
        "id": "KfB0B0Wxnytt"
      },
      "execution_count": null,
      "outputs": []
    },
    {
      "cell_type": "code",
      "source": [
        "ss= set(biglist)\n",
        "for i in ss :\n",
        "    print(i , biglist.count(i))"
      ],
      "metadata": {
        "execution": {
          "iopub.status.busy": "2022-09-22T16:50:35.193209Z",
          "iopub.execute_input": "2022-09-22T16:50:35.193580Z",
          "iopub.status.idle": "2022-09-22T16:50:35.200747Z",
          "shell.execute_reply.started": "2022-09-22T16:50:35.193544Z",
          "shell.execute_reply": "2022-09-22T16:50:35.199421Z"
        },
        "trusted": true,
        "id": "iGWiLKOGnytt",
        "outputId": "be0420b9-a35c-4ce5-94fc-5c031e2ed7c1"
      },
      "execution_count": null,
      "outputs": [
        {
          "name": "stdout",
          "text": "signs 1\npersonal computers 1\nworld 1\nbooks 1\ndisappear 1\npeople 1\ninvisible 1\ntechnologies 1\nwriting 1\nubiquitous 1\n",
          "output_type": "stream"
        }
      ]
    },
    {
      "cell_type": "code",
      "source": [
        "from nltk.tokenize import sent_tokenize\n",
        "from flashtext import KeywordProcessor\n",
        "\n",
        "def tokenize_sentences(text):\n",
        "    sentences = [sent_tokenize(text)]\n",
        "    sentences = [y for x in sentences for y in x]\n",
        "    sentences = [sentence.strip() for sentence in sentences if len(sentence) > 20]\n",
        "    return sentences\n",
        "\n",
        "def get_sentences_for_keyword(keywords, sentences):\n",
        "    keyword_processor = KeywordProcessor()\n",
        "    keyword_sentences = {}\n",
        "    for word in keywords:\n",
        "        keyword_sentences[word] = []\n",
        "        keyword_processor.add_keyword(word)\n",
        "    for sentence in sentences:\n",
        "        keywords_found = keyword_processor.extract_keywords(sentence)\n",
        "        for key in keywords_found:\n",
        "            keyword_sentences[key].append(sentence)\n",
        "\n",
        "    for key in keyword_sentences.keys():\n",
        "        values = keyword_sentences[key]\n",
        "        values = sorted(values, key=len, reverse=True)\n",
        "        keyword_sentences[key] = values\n",
        "    return keyword_sentences\n",
        "\n",
        "sentences = tokenize_sentences(contents)\n",
        "keyword_sentence_mapping = get_sentences_for_keyword(ss, sentences)"
      ],
      "metadata": {
        "execution": {
          "iopub.status.busy": "2022-09-22T16:50:35.203380Z",
          "iopub.execute_input": "2022-09-22T16:50:35.203772Z",
          "iopub.status.idle": "2022-09-22T16:50:35.225068Z",
          "shell.execute_reply.started": "2022-09-22T16:50:35.203739Z",
          "shell.execute_reply": "2022-09-22T16:50:35.224145Z"
        },
        "trusted": true,
        "id": "rOp1G5V-nytt"
      },
      "execution_count": null,
      "outputs": []
    },
    {
      "cell_type": "code",
      "source": [
        "tex1=\"Machine learning ML is a field of inquiry devoted to understanding and building methods that learn, that is, methods that leverage data to improve performance on some set of tasks.\\\n",
        "It is seen as a part of artificial intelligence,Machine learning algorithms build a model based on sample data, known as training data,\\\n",
        "in order to make predictions or decisions without being explicitly programmed to do so.\"\n",
        "\n",
        "text2=\"Machine learning programs can perform tasks without being explicitly programmed to do so. It involves computers learning from data provided so that they carry out certain tasks. For simple tasks assigned to computers,\\\n",
        "it is possible to program algorithms telling the machine how to execute all steps required to solve the problem at hand on the computers part, no learning is needed. For more advanced tasks,it can be challenging for a human to manually create the needed algorithms. In practice, it can turn out to be more effective to help the machine develop its own algorithm, rather than having human programmers specify every needed step\"\n",
        "\n",
        "text3=\"The computational analysis of machine learning algorithms and their performance is a branch of theoretical computer science known as computational learning theory via the Probably Approximately Correct Learning PAC model.\\\n",
        "Because training sets are finite and the future is uncertain, learning theory usually does not yield guarantees of the performance of algorithms.\\\n",
        "Instead, probabilistic bounds on the performance are quite common. The bias–variance decomposition is one way to quantify generalization error\""
      ],
      "metadata": {
        "execution": {
          "iopub.status.busy": "2022-09-22T16:50:35.226558Z",
          "iopub.execute_input": "2022-09-22T16:50:35.227323Z",
          "iopub.status.idle": "2022-09-22T16:50:35.242183Z",
          "shell.execute_reply.started": "2022-09-22T16:50:35.227285Z",
          "shell.execute_reply": "2022-09-22T16:50:35.240954Z"
        },
        "trusted": true,
        "id": "x6BhOhmVnytt"
      },
      "execution_count": null,
      "outputs": []
    },
    {
      "cell_type": "markdown",
      "source": [
        "NLP Model with Wikipedia-API"
      ],
      "metadata": {
        "id": "Mi8gqB9bo_I9"
      }
    },
    {
      "cell_type": "code",
      "source": [
        "nlp = pipeline(\"question-generation\", model=\"valhalla/t5-base-qg-hl\")"
      ],
      "metadata": {
        "execution": {
          "iopub.status.busy": "2022-09-22T16:51:03.978724Z",
          "iopub.execute_input": "2022-09-22T16:51:03.979239Z",
          "iopub.status.idle": "2022-09-22T16:51:21.363151Z",
          "shell.execute_reply.started": "2022-09-22T16:51:03.979199Z",
          "shell.execute_reply": "2022-09-22T16:51:21.361917Z"
        },
        "trusted": true,
        "id": "e5LjJEwRnytu"
      },
      "execution_count": null,
      "outputs": []
    },
    {
      "cell_type": "code",
      "source": [
        "nlp(text1)"
      ],
      "metadata": {
        "execution": {
          "iopub.status.busy": "2022-09-22T16:51:21.365272Z",
          "iopub.execute_input": "2022-09-22T16:51:21.366205Z",
          "iopub.status.idle": "2022-09-22T16:52:07.760828Z",
          "shell.execute_reply.started": "2022-09-22T16:51:21.366167Z",
          "shell.execute_reply": "2022-09-22T16:52:07.759984Z"
        },
        "trusted": true,
        "id": "in5d38f_nytu",
        "outputId": "e5a57986-b23a-419c-c145-3d178baca953"
      },
      "execution_count": null,
      "outputs": [
        {
          "execution_count": 98,
          "output_type": "execute_result",
          "data": {
            "text/plain": "[{'answer': 'descriptive analytics',\n  'question': 'What is the process of describing historical trends in data called?'},\n {'answer': 'historical trends in data',\n  'question': 'What does descriptive analytics describe?'},\n {'answer': 'return on investment',\n  'question': 'What is an example of a traditional indicator used in descriptive analytics?'},\n {'answer': 'different',\n  'question': 'How different are the indicators used for each industry?'},\n {'answer': 'Descriptive analytics',\n  'question': 'What does not make predictions or directly inform decisions?'},\n {'answer': 'advanced analytics',\n  'question': 'What is the next essential part of data analytics?'},\n {'answer': 'extract data, make predictions and discover trends',\n  'question': 'What does advanced analytics do?'},\n {'answer': 'classical statistics as well as machine learning',\n  'question': 'What tools are used in advanced analytics?'},\n {'answer': 'neural networks, natural language processing, sentiment analysis and more',\n  'question': 'What machine learning technologies enable advanced analytics?'},\n {'answer': 'new insight from data',\n  'question': 'What does advanced analytics provide?'},\n {'answer': 'what if',\n  'question': 'What questions does advanced analytics address?'},\n {'answer': 'collection of big data sets',\n  'question': 'What is instrumental in enabling advanced analytics techniques?'},\n {'answer': 'Big data analytics',\n  'question': 'What enables businesses to draw meaningful conclusions from complex and varied data sources?'}]"
          },
          "metadata": {}
        }
      ]
    },
    {
      "cell_type": "code",
      "source": [
        "nlp(text3)"
      ],
      "metadata": {
        "execution": {
          "iopub.status.busy": "2022-09-22T16:52:07.762315Z",
          "iopub.execute_input": "2022-09-22T16:52:07.763445Z",
          "iopub.status.idle": "2022-09-22T16:52:13.703372Z",
          "shell.execute_reply.started": "2022-09-22T16:52:07.763404Z",
          "shell.execute_reply": "2022-09-22T16:52:13.702257Z"
        },
        "trusted": true,
        "id": "KHL5GB6Lnytu",
        "outputId": "506e600b-6a35-46a4-9f55-a3136727884d"
      },
      "execution_count": null,
      "outputs": [
        {
          "execution_count": 99,
          "output_type": "execute_result",
          "data": {
            "text/plain": "[{'answer': 'computational learning theory',\n  'question': 'What is the computational analysis of machine learning algorithms and their performance a branch of theoretical computer science known as?'},\n {'answer': 'bias–variance decomposition',\n  'question': 'What is one way to quantify generalization error?'}]"
          },
          "metadata": {}
        }
      ]
    }
  ]
}